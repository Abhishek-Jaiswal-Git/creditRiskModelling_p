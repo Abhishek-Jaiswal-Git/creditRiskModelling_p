{
  "cells": [
    {
      "cell_type": "markdown",
      "metadata": {
        "id": "view-in-github",
        "colab_type": "text"
      },
      "source": [
        "<a href=\"https://colab.research.google.com/github/Abhishek-Jaiswal-Git/creditRiskModelling_p/blob/main/creditRiskModeling.ipynb\" target=\"_parent\"><img src=\"https://colab.research.google.com/assets/colab-badge.svg\" alt=\"Open In Colab\"/></a>"
      ]
    },
    {
      "cell_type": "code",
      "execution_count": 1,
      "metadata": {
        "id": "qn4DKt3DelDm"
      },
      "outputs": [],
      "source": [
        "import numpy as np\n",
        "import pandas as pd\n",
        "import matplotlib.pyplot as plt\n",
        "from sklearn.metrics import r2_score,accuracy_score,classification_report,precision_recall_fscore_support\n",
        "from scipy.stats import chi2_contingency\n",
        "from statsmodels.stats.outliers_influence import variance_inflation_factor\n",
        "from sklearn.model_selection import train_test_split\n",
        "from sklearn.ensemble import RandomForestClassifier\n",
        "import warnings\n",
        "import os"
      ]
    },
    {
      "cell_type": "code",
      "execution_count": 2,
      "metadata": {
        "id": "NfXJbqSKfnZn"
      },
      "outputs": [],
      "source": [
        "pd.set_option('display.max_columns', None)"
      ]
    },
    {
      "cell_type": "code",
      "execution_count": 3,
      "metadata": {
        "id": "xfNI83Ursod1"
      },
      "outputs": [],
      "source": [
        "df1 =pd.read_csv('https://raw.githubusercontent.com/Abhishek-Jaiswal-Git/creditRiskModel/main/bankProductData.csv')"
      ]
    },
    {
      "cell_type": "code",
      "execution_count": 4,
      "metadata": {
        "id": "fQ_rfO1CQshq"
      },
      "outputs": [],
      "source": [
        "df2 =  pd.read_csv('https://raw.githubusercontent.com/Abhishek-Jaiswal-Git/creditRiskModel/main/cibilData.csv')"
      ]
    },
    {
      "cell_type": "code",
      "execution_count": 5,
      "metadata": {
        "id": "dEbkcVB5-Ado"
      },
      "outputs": [],
      "source": [
        "df1 = df1[df1['Age_Oldest_TL']!= -99999]"
      ]
    },
    {
      "cell_type": "code",
      "execution_count": 6,
      "metadata": {
        "id": "0tWDdjuF-IR5"
      },
      "outputs": [],
      "source": [
        "#remove columns rom df2 which has more than 10000 missing values (-99999)\n",
        "columnsToBeRemoved = []\n",
        "for i in df2.columns:\n",
        "    if df2[df2[i] == -99999].shape[0] > 10000:\n",
        "        columnsToBeRemoved.append(i)"
      ]
    },
    {
      "cell_type": "code",
      "execution_count": 7,
      "metadata": {
        "colab": {
          "base_uri": "https://localhost:8080/"
        },
        "id": "uWFvLuuJFOKz",
        "outputId": "d8470f95-bb2c-4fed-f0fa-a58b7731249e"
      },
      "outputs": [
        {
          "output_type": "execute_result",
          "data": {
            "text/plain": [
              "['time_since_first_deliquency',\n",
              " 'time_since_recent_deliquency',\n",
              " 'max_delinquency_level',\n",
              " 'max_deliq_6mts',\n",
              " 'max_deliq_12mts',\n",
              " 'CC_utilization',\n",
              " 'PL_utilization',\n",
              " 'max_unsec_exposure_inPct']"
            ]
          },
          "metadata": {},
          "execution_count": 7
        }
      ],
      "source": [
        "columnsToBeRemoved"
      ]
    },
    {
      "cell_type": "code",
      "execution_count": 8,
      "metadata": {
        "id": "ZcO37x_KFkbS"
      },
      "outputs": [],
      "source": [
        "df2 = df2.drop(columnsToBeRemoved,axis=1)"
      ]
    },
    {
      "cell_type": "code",
      "execution_count": 9,
      "metadata": {
        "colab": {
          "base_uri": "https://localhost:8080/"
        },
        "id": "aoljHLT9GNYt",
        "outputId": "1408511f-5e52-46a9-dc41-accbdda0c511"
      },
      "outputs": [
        {
          "output_type": "execute_result",
          "data": {
            "text/plain": [
              "(51336, 54)"
            ]
          },
          "metadata": {},
          "execution_count": 9
        }
      ],
      "source": [
        "df2.shape"
      ]
    },
    {
      "cell_type": "code",
      "execution_count": 10,
      "metadata": {
        "id": "8pGVQCzoGWbv"
      },
      "outputs": [],
      "source": [
        "#removing null rows from df2\n",
        "for i in df2.columns:\n",
        "    df2 = df2.loc[df2[i] != -99999]"
      ]
    },
    {
      "cell_type": "code",
      "execution_count": 11,
      "metadata": {
        "colab": {
          "base_uri": "https://localhost:8080/"
        },
        "id": "rs4Vs3JLHOZ5",
        "outputId": "8f3f4953-280c-4f01-a425-f5ccf50dd11d"
      },
      "outputs": [
        {
          "output_type": "execute_result",
          "data": {
            "text/plain": [
              "(42066, 54)"
            ]
          },
          "metadata": {},
          "execution_count": 11
        }
      ],
      "source": [
        "df2.shape"
      ]
    },
    {
      "cell_type": "code",
      "execution_count": 12,
      "metadata": {
        "id": "c1tgsZNoHsFE"
      },
      "outputs": [],
      "source": [
        "df = pd.merge(df1,df2,how = 'inner', on ='PROSPECTID')"
      ]
    },
    {
      "cell_type": "code",
      "execution_count": 13,
      "metadata": {
        "colab": {
          "base_uri": "https://localhost:8080/"
        },
        "id": "FuY3iHhJIIB8",
        "outputId": "85763289-895e-4f95-c64f-94e54fd87d79"
      },
      "outputs": [
        {
          "output_type": "execute_result",
          "data": {
            "text/plain": [
              "['MARITALSTATUS',\n",
              " 'EDUCATION',\n",
              " 'GENDER',\n",
              " 'last_prod_enq2',\n",
              " 'first_prod_enq2',\n",
              " 'Approved_Flag']"
            ]
          },
          "metadata": {},
          "execution_count": 13
        }
      ],
      "source": [
        "#dividing features into categorical and numericals\n",
        "cat_features = [i for i in df.columns if df[i].dtype == 'object']\n",
        "cat_features"
      ]
    },
    {
      "cell_type": "code",
      "execution_count": 14,
      "metadata": {
        "colab": {
          "base_uri": "https://localhost:8080/"
        },
        "id": "AuelKFDSI8xa",
        "outputId": "5b6dc7d6-96b7-4e26-d691-a30cd0397fd5"
      },
      "outputs": [
        {
          "output_type": "stream",
          "name": "stdout",
          "text": [
            "MARITALSTATUS ----> 3.578180861038862e-233\n",
            "EDUCATION ----> 2.6942265249737532e-30\n",
            "GENDER ----> 1.907936100186563e-05\n",
            "last_prod_enq2 ----> 0.0\n",
            "first_prod_enq2 ----> 7.84997610555419e-287\n",
            "Approved_Flag ----> 0.0\n"
          ]
        }
      ],
      "source": [
        "#chi_square test\n",
        "for i in cat_features:\n",
        "    chi2,pval,_,_ = chi2_contingency(pd.crosstab(df[i],df['Approved_Flag']))\n",
        "    print(i,'---->',pval)"
      ]
    },
    {
      "cell_type": "code",
      "execution_count": 15,
      "metadata": {
        "id": "X-uW6rF6dcgo"
      },
      "outputs": [],
      "source": [
        "#all the features has pvalue 0.05, we will use all values as all are associated with output"
      ]
    },
    {
      "cell_type": "code",
      "execution_count": 16,
      "metadata": {
        "id": "Lwc6iLtDeJCN"
      },
      "outputs": [],
      "source": [
        "num_features = [i for i in df.columns if df[i].dtype != 'object' and i not in ['PROSPECTID','Approved_Flag']]"
      ]
    },
    {
      "cell_type": "code",
      "execution_count": 17,
      "metadata": {
        "colab": {
          "base_uri": "https://localhost:8080/"
        },
        "id": "536SNk2_elaC",
        "outputId": "86d6358f-75fb-456d-9656-f3b8c7dca1ea"
      },
      "outputs": [
        {
          "output_type": "stream",
          "name": "stderr",
          "text": [
            "/usr/local/lib/python3.10/dist-packages/statsmodels/stats/outliers_influence.py:197: RuntimeWarning: divide by zero encountered in scalar divide\n",
            "  vif = 1. / (1. - r_squared_i)\n",
            "/usr/local/lib/python3.10/dist-packages/statsmodels/stats/outliers_influence.py:197: RuntimeWarning: divide by zero encountered in scalar divide\n",
            "  vif = 1. / (1. - r_squared_i)\n",
            "/usr/local/lib/python3.10/dist-packages/statsmodels/stats/outliers_influence.py:197: RuntimeWarning: divide by zero encountered in scalar divide\n",
            "  vif = 1. / (1. - r_squared_i)\n",
            "/usr/local/lib/python3.10/dist-packages/statsmodels/stats/outliers_influence.py:197: RuntimeWarning: divide by zero encountered in scalar divide\n",
            "  vif = 1. / (1. - r_squared_i)\n",
            "/usr/local/lib/python3.10/dist-packages/statsmodels/stats/outliers_influence.py:197: RuntimeWarning: divide by zero encountered in scalar divide\n",
            "  vif = 1. / (1. - r_squared_i)\n"
          ]
        }
      ],
      "source": [
        "#VIF (Variance Inflation Factor) use to find multicollinearilty\n",
        "vif_data = df[num_features]\n",
        "total_colums = vif_data.shape[1]\n",
        "columns_to_be_kept = []\n",
        "column_index=0\n",
        "\n",
        "for i in range(0,total_colums):\n",
        "    vif_value = variance_inflation_factor(vif_data,column_index)\n",
        "    if vif_value<=6:\n",
        "        columns_to_be_kept.append(num_features[i])\n",
        "        column_index+=1\n",
        "\n",
        "    else:\n",
        "        vif_data = vif_data.drop([num_features[i]],axis=1)\n"
      ]
    },
    {
      "cell_type": "code",
      "execution_count": 18,
      "metadata": {
        "colab": {
          "base_uri": "https://localhost:8080/"
        },
        "id": "a-9G7FBdkyFz",
        "outputId": "2f8d7cab-5f08-4760-8394-45016c406a19"
      },
      "outputs": [
        {
          "output_type": "execute_result",
          "data": {
            "text/plain": [
              "(42064, 39)"
            ]
          },
          "metadata": {},
          "execution_count": 18
        }
      ],
      "source": [
        "vif_data.shape"
      ]
    },
    {
      "cell_type": "code",
      "execution_count": 19,
      "metadata": {
        "id": "HqP6YyTgnxvy"
      },
      "outputs": [],
      "source": [
        "from scipy.stats import f_oneway\n",
        "\n",
        "columns_to_be_kept_numerical = []\n",
        "#ANOVA test\n",
        "for i in columns_to_be_kept:\n",
        "    a= list(df[i])\n",
        "    b=list(df['Approved_Flag'])\n",
        "\n",
        "    group_P1 = [value for value,group in zip(a,b) if group == 'P1']\n",
        "    group_P2 = [value for value,group in zip(a,b) if group == 'P2']\n",
        "    group_P3 = [value for value,group in zip(a,b) if group == 'P3']\n",
        "    group_P4 = [value for value,group in zip(a,b) if group == 'P4']\n",
        "\n",
        "    f_statistic,p_value = f_oneway(group_P1,group_P2,group_P3,group_P4)\n",
        "\n",
        "    if p_value <=0.05:\n",
        "        columns_to_be_kept_numerical.append(i)"
      ]
    },
    {
      "cell_type": "code",
      "execution_count": 20,
      "metadata": {
        "colab": {
          "base_uri": "https://localhost:8080/"
        },
        "id": "W3AlWehPwhii",
        "outputId": "83d9c27c-9ea6-4b16-e484-a6e1a96103ee"
      },
      "outputs": [
        {
          "output_type": "stream",
          "name": "stdout",
          "text": [
            "['num_lss_12mts', 'pct_currentBal_all_TL']\n"
          ]
        }
      ],
      "source": [
        "difference_list = [value for value in columns_to_be_kept if value not in columns_to_be_kept_numerical]\n",
        "print(difference_list)"
      ]
    },
    {
      "cell_type": "code",
      "execution_count": 21,
      "metadata": {
        "id": "O5KgnKzvOtVU"
      },
      "outputs": [],
      "source": [
        "df=df[columns_to_be_kept_numerical+ cat_features]"
      ]
    },
    {
      "cell_type": "code",
      "execution_count": 22,
      "metadata": {
        "id": "w2clNJc5fV4q"
      },
      "outputs": [],
      "source": [
        "df.loc[df['EDUCATION'] == 'SSC',['EDUCATION']] = 1\n",
        "df.loc[df['EDUCATION'] == '12TH',['EDUCATION']] = 2\n",
        "df.loc[df['EDUCATION'] == 'GRADUATE',['EDUCATION']] = 3\n",
        "df.loc[df['EDUCATION'] == 'UNDER GRADUATE',['EDUCATION']] = 3\n",
        "df.loc[df['EDUCATION'] == 'POST-GRADUATE',['EDUCATION']] = 4\n",
        "df.loc[df['EDUCATION'] == 'OTHERS',['EDUCATION']] = 1\n",
        "df.loc[df['EDUCATION'] == 'PROFESSIONAL',['EDUCATION']] = 3"
      ]
    },
    {
      "cell_type": "code",
      "execution_count": 23,
      "metadata": {
        "id": "4WRjavM4wNMI"
      },
      "outputs": [],
      "source": [
        "df_encoded  = pd.get_dummies(df,columns = ['MARITALSTATUS','GENDER','last_prod_enq2','first_prod_enq2'])"
      ]
    },
    {
      "cell_type": "code",
      "execution_count": 24,
      "metadata": {
        "id": "vpIyGoRzy1Ml"
      },
      "outputs": [],
      "source": [
        "#Model fitting\n",
        "X= df_encoded.drop(['Approved_Flag'],axis=1)\n",
        "y= df_encoded['Approved_Flag']\n",
        "\n",
        "X_train,X_test,y_train,y_test = train_test_split(X,y,test_size = 0.2, random_state = 42)"
      ]
    },
    {
      "cell_type": "code",
      "execution_count": 25,
      "metadata": {
        "colab": {
          "base_uri": "https://localhost:8080/",
          "height": 74
        },
        "id": "sCPUEq583t6_",
        "outputId": "f6a8f4d9-1538-44c8-c2d3-37425a1defba"
      },
      "outputs": [
        {
          "output_type": "execute_result",
          "data": {
            "text/plain": [
              "RandomForestClassifier()"
            ],
            "text/html": [
              "<style>#sk-container-id-1 {color: black;background-color: white;}#sk-container-id-1 pre{padding: 0;}#sk-container-id-1 div.sk-toggleable {background-color: white;}#sk-container-id-1 label.sk-toggleable__label {cursor: pointer;display: block;width: 100%;margin-bottom: 0;padding: 0.3em;box-sizing: border-box;text-align: center;}#sk-container-id-1 label.sk-toggleable__label-arrow:before {content: \"▸\";float: left;margin-right: 0.25em;color: #696969;}#sk-container-id-1 label.sk-toggleable__label-arrow:hover:before {color: black;}#sk-container-id-1 div.sk-estimator:hover label.sk-toggleable__label-arrow:before {color: black;}#sk-container-id-1 div.sk-toggleable__content {max-height: 0;max-width: 0;overflow: hidden;text-align: left;background-color: #f0f8ff;}#sk-container-id-1 div.sk-toggleable__content pre {margin: 0.2em;color: black;border-radius: 0.25em;background-color: #f0f8ff;}#sk-container-id-1 input.sk-toggleable__control:checked~div.sk-toggleable__content {max-height: 200px;max-width: 100%;overflow: auto;}#sk-container-id-1 input.sk-toggleable__control:checked~label.sk-toggleable__label-arrow:before {content: \"▾\";}#sk-container-id-1 div.sk-estimator input.sk-toggleable__control:checked~label.sk-toggleable__label {background-color: #d4ebff;}#sk-container-id-1 div.sk-label input.sk-toggleable__control:checked~label.sk-toggleable__label {background-color: #d4ebff;}#sk-container-id-1 input.sk-hidden--visually {border: 0;clip: rect(1px 1px 1px 1px);clip: rect(1px, 1px, 1px, 1px);height: 1px;margin: -1px;overflow: hidden;padding: 0;position: absolute;width: 1px;}#sk-container-id-1 div.sk-estimator {font-family: monospace;background-color: #f0f8ff;border: 1px dotted black;border-radius: 0.25em;box-sizing: border-box;margin-bottom: 0.5em;}#sk-container-id-1 div.sk-estimator:hover {background-color: #d4ebff;}#sk-container-id-1 div.sk-parallel-item::after {content: \"\";width: 100%;border-bottom: 1px solid gray;flex-grow: 1;}#sk-container-id-1 div.sk-label:hover label.sk-toggleable__label {background-color: #d4ebff;}#sk-container-id-1 div.sk-serial::before {content: \"\";position: absolute;border-left: 1px solid gray;box-sizing: border-box;top: 0;bottom: 0;left: 50%;z-index: 0;}#sk-container-id-1 div.sk-serial {display: flex;flex-direction: column;align-items: center;background-color: white;padding-right: 0.2em;padding-left: 0.2em;position: relative;}#sk-container-id-1 div.sk-item {position: relative;z-index: 1;}#sk-container-id-1 div.sk-parallel {display: flex;align-items: stretch;justify-content: center;background-color: white;position: relative;}#sk-container-id-1 div.sk-item::before, #sk-container-id-1 div.sk-parallel-item::before {content: \"\";position: absolute;border-left: 1px solid gray;box-sizing: border-box;top: 0;bottom: 0;left: 50%;z-index: -1;}#sk-container-id-1 div.sk-parallel-item {display: flex;flex-direction: column;z-index: 1;position: relative;background-color: white;}#sk-container-id-1 div.sk-parallel-item:first-child::after {align-self: flex-end;width: 50%;}#sk-container-id-1 div.sk-parallel-item:last-child::after {align-self: flex-start;width: 50%;}#sk-container-id-1 div.sk-parallel-item:only-child::after {width: 0;}#sk-container-id-1 div.sk-dashed-wrapped {border: 1px dashed gray;margin: 0 0.4em 0.5em 0.4em;box-sizing: border-box;padding-bottom: 0.4em;background-color: white;}#sk-container-id-1 div.sk-label label {font-family: monospace;font-weight: bold;display: inline-block;line-height: 1.2em;}#sk-container-id-1 div.sk-label-container {text-align: center;}#sk-container-id-1 div.sk-container {/* jupyter's `normalize.less` sets `[hidden] { display: none; }` but bootstrap.min.css set `[hidden] { display: none !important; }` so we also need the `!important` here to be able to override the default hidden behavior on the sphinx rendered scikit-learn.org. See: https://github.com/scikit-learn/scikit-learn/issues/21755 */display: inline-block !important;position: relative;}#sk-container-id-1 div.sk-text-repr-fallback {display: none;}</style><div id=\"sk-container-id-1\" class=\"sk-top-container\"><div class=\"sk-text-repr-fallback\"><pre>RandomForestClassifier()</pre><b>In a Jupyter environment, please rerun this cell to show the HTML representation or trust the notebook. <br />On GitHub, the HTML representation is unable to render, please try loading this page with nbviewer.org.</b></div><div class=\"sk-container\" hidden><div class=\"sk-item\"><div class=\"sk-estimator sk-toggleable\"><input class=\"sk-toggleable__control sk-hidden--visually\" id=\"sk-estimator-id-1\" type=\"checkbox\" checked><label for=\"sk-estimator-id-1\" class=\"sk-toggleable__label sk-toggleable__label-arrow\">RandomForestClassifier</label><div class=\"sk-toggleable__content\"><pre>RandomForestClassifier()</pre></div></div></div></div></div>"
            ]
          },
          "metadata": {},
          "execution_count": 25
        }
      ],
      "source": [
        "model = RandomForestClassifier()\n",
        "\n",
        "\n",
        "model.fit(X_train,y_train)"
      ]
    },
    {
      "cell_type": "code",
      "execution_count": 26,
      "metadata": {
        "id": "gkWoy0fsg6Hz"
      },
      "outputs": [],
      "source": [
        "y_pred = model.predict(X_test)"
      ]
    },
    {
      "cell_type": "code",
      "execution_count": 27,
      "metadata": {
        "colab": {
          "base_uri": "https://localhost:8080/"
        },
        "id": "a8AgRi97hAUP",
        "outputId": "19cc18f8-2925-4833-cdbc-c6236bb2529e"
      },
      "outputs": [
        {
          "output_type": "execute_result",
          "data": {
            "text/plain": [
              "0.7626292642339237"
            ]
          },
          "metadata": {},
          "execution_count": 27
        }
      ],
      "source": [
        "accuracy_score(y_test,y_pred)"
      ]
    },
    {
      "cell_type": "code",
      "execution_count": 28,
      "metadata": {
        "colab": {
          "base_uri": "https://localhost:8080/"
        },
        "id": "MzDLJVwihJEY",
        "outputId": "b6aaf151-b933-4552-ad97-b028eb055781"
      },
      "outputs": [
        {
          "output_type": "stream",
          "name": "stdout",
          "text": [
            "Accuracy: 0.7626292642339237\n",
            "\n",
            "Class p1:\n",
            "Precision: 0.839766081871345\n",
            "Recall: 0.7080867850098619\n",
            "F1 Score: 0.7683253076511504\n",
            "\n",
            "Class p2:\n",
            "Precision: 0.7956241519674355\n",
            "Recall: 0.9298315163528246\n",
            "F1 Score: 0.8575084544374371\n",
            "\n",
            "Class p3:\n",
            "Precision: 0.4278996865203762\n",
            "Recall: 0.2060377358490566\n",
            "F1 Score: 0.27814569536423844\n",
            "\n",
            "Class p4:\n",
            "Precision: 0.716796875\n",
            "Recall: 0.7133138969873664\n",
            "F1 Score: 0.7150511446663419\n",
            "\n"
          ]
        }
      ],
      "source": [
        "accuracy = accuracy_score(y_test, y_pred)\n",
        "print(f'Accuracy: {accuracy}')\n",
        "print ()\n",
        "precision, recall, f1_score, _ = precision_recall_fscore_support(y_test, y_pred)\n",
        "\n",
        "\n",
        "for i, v in enumerate(['p1', 'p2', 'p3', 'p4']):\n",
        "    print(f\"Class {v}:\")\n",
        "    print(f\"Precision: {precision[i]}\")\n",
        "    print(f\"Recall: {recall[i]}\")\n",
        "    print(f\"F1 Score: {f1_score[i]}\")\n",
        "    print()"
      ]
    },
    {
      "cell_type": "code",
      "execution_count": 29,
      "metadata": {
        "id": "03-pkzpfijZv"
      },
      "outputs": [],
      "source": [
        "import xgboost as xgb\n",
        "from sklearn.preprocessing import LabelEncoder\n",
        "\n",
        "xgb_classifier = xgb.XGBClassifier(objective='multi:softmax',  num_class=4)\n",
        "\n",
        "\n",
        "\n",
        "y = df_encoded['Approved_Flag']\n",
        "x = df_encoded.drop ( ['Approved_Flag'], axis = 1 )\n",
        "x['EDUCATION'] = x['EDUCATION'].astype('int64')\n",
        "\n",
        "label_encoder = LabelEncoder()\n",
        "y_encoded = label_encoder.fit_transform(y)\n",
        "\n",
        "\n",
        "x_train, x_test, y_train, y_test = train_test_split(x, y_encoded, test_size=0.2, random_state=42)\n"
      ]
    },
    {
      "cell_type": "code",
      "execution_count": 30,
      "metadata": {
        "colab": {
          "base_uri": "https://localhost:8080/"
        },
        "id": "bQkaV-dXi8sA",
        "outputId": "e02995df-c1f9-43fa-c3cb-7e7bc4d4200a"
      },
      "outputs": [
        {
          "output_type": "stream",
          "name": "stdout",
          "text": [
            "\n",
            "Accuracy: 0.78\n",
            "\n",
            "Class p1:\n",
            "Precision: 0.823906083244397\n",
            "Recall: 0.7613412228796844\n",
            "F1 Score: 0.7913890312660173\n",
            "\n",
            "Class p2:\n",
            "Precision: 0.8255418233924413\n",
            "Recall: 0.913577799801784\n",
            "F1 Score: 0.8673315769665036\n",
            "\n",
            "Class p3:\n",
            "Precision: 0.4756380510440835\n",
            "Recall: 0.30943396226415093\n",
            "F1 Score: 0.3749428440786465\n",
            "\n",
            "Class p4:\n",
            "Precision: 0.7342386032977691\n",
            "Recall: 0.7356656948493683\n",
            "F1 Score: 0.7349514563106796\n",
            "\n"
          ]
        }
      ],
      "source": [
        "xgb_classifier.fit(x_train, y_train)\n",
        "y_pred = xgb_classifier.predict(x_test)\n",
        "\n",
        "accuracy = accuracy_score(y_test, y_pred)\n",
        "print ()\n",
        "print(f'Accuracy: {accuracy:.2f}')\n",
        "print ()\n",
        "\n",
        "precision, recall, f1_score, _ = precision_recall_fscore_support(y_test, y_pred)\n",
        "\n",
        "for i, v in enumerate(['p1', 'p2', 'p3', 'p4']):\n",
        "    print(f\"Class {v}:\")\n",
        "    print(f\"Precision: {precision[i]}\")\n",
        "    print(f\"Recall: {recall[i]}\")\n",
        "    print(f\"F1 Score: {f1_score[i]}\")\n",
        "    print()"
      ]
    },
    {
      "cell_type": "code",
      "execution_count": 31,
      "metadata": {
        "colab": {
          "base_uri": "https://localhost:8080/"
        },
        "id": "mR67W3rbeWpJ",
        "outputId": "c7917349-0afe-4df0-833c-1f39bb01cfcc"
      },
      "outputs": [
        {
          "output_type": "execute_result",
          "data": {
            "text/plain": [
              "Approved_Flag\n",
              "P2    25452\n",
              "P3     6440\n",
              "P4     5264\n",
              "P1     4908\n",
              "Name: count, dtype: int64"
            ]
          },
          "metadata": {},
          "execution_count": 31
        }
      ],
      "source": [
        "df_encoded['Approved_Flag'].value_counts()"
      ]
    },
    {
      "cell_type": "code",
      "source": [
        "from sklearn.preprocessing import StandardScaler\n",
        "\n",
        "columns_to_be_scaled = ['Age_Oldest_TL','Age_Newest_TL','time_since_recent_payment',\n",
        "'max_recent_level_of_deliq','recent_level_of_deliq',\n",
        "'time_since_recent_enq','NETMONTHLYINCOME','Time_With_Curr_Empr']\n",
        "\n",
        "for i in columns_to_be_scaled:\n",
        "    column_data = df_encoded[i].values.reshape(-1, 1)\n",
        "    scaler = StandardScaler()\n",
        "    scaled_column = scaler.fit_transform(column_data)\n",
        "    df_encoded[i] = scaled_column\n"
      ],
      "metadata": {
        "id": "82roEsiGHJ4V"
      },
      "execution_count": 32,
      "outputs": []
    },
    {
      "cell_type": "code",
      "source": [
        "y = df_encoded['Approved_Flag']\n",
        "x = df_encoded. drop ( ['Approved_Flag'], axis = 1 )\n",
        "\n",
        "x['EDUCATION'] = x['EDUCATION'].astype('int64')\n",
        "label_encoder = LabelEncoder()\n",
        "y_encoded = label_encoder.fit_transform(y)\n",
        "\n",
        "\n",
        "x_train, x_test, y_train, y_test = train_test_split(x, y_encoded, test_size=0.2, random_state=42)\n",
        "\n",
        "\n",
        "\n",
        "\n",
        "xgb_classifier.fit(x_train, y_train)\n",
        "y_pred = xgb_classifier.predict(x_test)\n",
        "\n",
        "accuracy = accuracy_score(y_test, y_pred)\n",
        "print(f'Accuracy: {accuracy:.2f}')\n",
        "\n",
        "\n",
        "precision, recall, f1_score, _ = precision_recall_fscore_support(y_test, y_pred)\n",
        "\n",
        "for i, v in enumerate(['p1', 'p2', 'p3', 'p4']):\n",
        "    print(f\"Class {v}:\")\n",
        "    print(f\"Precision: {precision[i]}\")\n",
        "    print(f\"Recall: {recall[i]}\")\n",
        "    print(f\"F1 Score: {f1_score[i]}\")\n",
        "    print()\n"
      ],
      "metadata": {
        "colab": {
          "base_uri": "https://localhost:8080/"
        },
        "id": "KUhEBKSLKGcf",
        "outputId": "4378e5c9-369b-486d-a88c-611072edb88c"
      },
      "execution_count": 33,
      "outputs": [
        {
          "output_type": "stream",
          "name": "stdout",
          "text": [
            "Accuracy: 0.78\n",
            "Class p1:\n",
            "Precision: 0.823906083244397\n",
            "Recall: 0.7613412228796844\n",
            "F1 Score: 0.7913890312660173\n",
            "\n",
            "Class p2:\n",
            "Precision: 0.8255418233924413\n",
            "Recall: 0.913577799801784\n",
            "F1 Score: 0.8673315769665036\n",
            "\n",
            "Class p3:\n",
            "Precision: 0.4756380510440835\n",
            "Recall: 0.30943396226415093\n",
            "F1 Score: 0.3749428440786465\n",
            "\n",
            "Class p4:\n",
            "Precision: 0.7342386032977691\n",
            "Recall: 0.7356656948493683\n",
            "F1 Score: 0.7349514563106796\n",
            "\n"
          ]
        }
      ]
    },
    {
      "cell_type": "markdown",
      "source": [
        "No improvemnet in model ,after scaling."
      ],
      "metadata": {
        "id": "dOV5vDQVK-8i"
      }
    },
    {
      "cell_type": "code",
      "source": [
        "xgb_model_tuned = xgb.XGBClassifier(objective='multi:softmax', num_class=4, learning_rate= 1, max_depth= 3, n_estimators= 100,colsample_bytree = 0.9,alpha=10)"
      ],
      "metadata": {
        "id": "f-8kAkg9Lb5d"
      },
      "execution_count": 34,
      "outputs": []
    },
    {
      "cell_type": "code",
      "source": [
        "xgb_model_tuned.fit(x_train,y_train)"
      ],
      "metadata": {
        "colab": {
          "base_uri": "https://localhost:8080/",
          "height": 231
        },
        "id": "-B4tDT_7MtH5",
        "outputId": "03b6bb22-7dbe-4431-9246-a8f31690a245"
      },
      "execution_count": 35,
      "outputs": [
        {
          "output_type": "execute_result",
          "data": {
            "text/plain": [
              "XGBClassifier(alpha=10, base_score=None, booster=None, callbacks=None,\n",
              "              colsample_bylevel=None, colsample_bynode=None,\n",
              "              colsample_bytree=0.9, device=None, early_stopping_rounds=None,\n",
              "              enable_categorical=False, eval_metric=None, feature_types=None,\n",
              "              gamma=None, grow_policy=None, importance_type=None,\n",
              "              interaction_constraints=None, learning_rate=1, max_bin=None,\n",
              "              max_cat_threshold=None, max_cat_to_onehot=None,\n",
              "              max_delta_step=None, max_depth=3, max_leaves=None,\n",
              "              min_child_weight=None, missing=nan, monotone_constraints=None,\n",
              "              multi_strategy=None, n_estimators=100, n_jobs=None, num_class=4, ...)"
            ],
            "text/html": [
              "<style>#sk-container-id-2 {color: black;background-color: white;}#sk-container-id-2 pre{padding: 0;}#sk-container-id-2 div.sk-toggleable {background-color: white;}#sk-container-id-2 label.sk-toggleable__label {cursor: pointer;display: block;width: 100%;margin-bottom: 0;padding: 0.3em;box-sizing: border-box;text-align: center;}#sk-container-id-2 label.sk-toggleable__label-arrow:before {content: \"▸\";float: left;margin-right: 0.25em;color: #696969;}#sk-container-id-2 label.sk-toggleable__label-arrow:hover:before {color: black;}#sk-container-id-2 div.sk-estimator:hover label.sk-toggleable__label-arrow:before {color: black;}#sk-container-id-2 div.sk-toggleable__content {max-height: 0;max-width: 0;overflow: hidden;text-align: left;background-color: #f0f8ff;}#sk-container-id-2 div.sk-toggleable__content pre {margin: 0.2em;color: black;border-radius: 0.25em;background-color: #f0f8ff;}#sk-container-id-2 input.sk-toggleable__control:checked~div.sk-toggleable__content {max-height: 200px;max-width: 100%;overflow: auto;}#sk-container-id-2 input.sk-toggleable__control:checked~label.sk-toggleable__label-arrow:before {content: \"▾\";}#sk-container-id-2 div.sk-estimator input.sk-toggleable__control:checked~label.sk-toggleable__label {background-color: #d4ebff;}#sk-container-id-2 div.sk-label input.sk-toggleable__control:checked~label.sk-toggleable__label {background-color: #d4ebff;}#sk-container-id-2 input.sk-hidden--visually {border: 0;clip: rect(1px 1px 1px 1px);clip: rect(1px, 1px, 1px, 1px);height: 1px;margin: -1px;overflow: hidden;padding: 0;position: absolute;width: 1px;}#sk-container-id-2 div.sk-estimator {font-family: monospace;background-color: #f0f8ff;border: 1px dotted black;border-radius: 0.25em;box-sizing: border-box;margin-bottom: 0.5em;}#sk-container-id-2 div.sk-estimator:hover {background-color: #d4ebff;}#sk-container-id-2 div.sk-parallel-item::after {content: \"\";width: 100%;border-bottom: 1px solid gray;flex-grow: 1;}#sk-container-id-2 div.sk-label:hover label.sk-toggleable__label {background-color: #d4ebff;}#sk-container-id-2 div.sk-serial::before {content: \"\";position: absolute;border-left: 1px solid gray;box-sizing: border-box;top: 0;bottom: 0;left: 50%;z-index: 0;}#sk-container-id-2 div.sk-serial {display: flex;flex-direction: column;align-items: center;background-color: white;padding-right: 0.2em;padding-left: 0.2em;position: relative;}#sk-container-id-2 div.sk-item {position: relative;z-index: 1;}#sk-container-id-2 div.sk-parallel {display: flex;align-items: stretch;justify-content: center;background-color: white;position: relative;}#sk-container-id-2 div.sk-item::before, #sk-container-id-2 div.sk-parallel-item::before {content: \"\";position: absolute;border-left: 1px solid gray;box-sizing: border-box;top: 0;bottom: 0;left: 50%;z-index: -1;}#sk-container-id-2 div.sk-parallel-item {display: flex;flex-direction: column;z-index: 1;position: relative;background-color: white;}#sk-container-id-2 div.sk-parallel-item:first-child::after {align-self: flex-end;width: 50%;}#sk-container-id-2 div.sk-parallel-item:last-child::after {align-self: flex-start;width: 50%;}#sk-container-id-2 div.sk-parallel-item:only-child::after {width: 0;}#sk-container-id-2 div.sk-dashed-wrapped {border: 1px dashed gray;margin: 0 0.4em 0.5em 0.4em;box-sizing: border-box;padding-bottom: 0.4em;background-color: white;}#sk-container-id-2 div.sk-label label {font-family: monospace;font-weight: bold;display: inline-block;line-height: 1.2em;}#sk-container-id-2 div.sk-label-container {text-align: center;}#sk-container-id-2 div.sk-container {/* jupyter's `normalize.less` sets `[hidden] { display: none; }` but bootstrap.min.css set `[hidden] { display: none !important; }` so we also need the `!important` here to be able to override the default hidden behavior on the sphinx rendered scikit-learn.org. See: https://github.com/scikit-learn/scikit-learn/issues/21755 */display: inline-block !important;position: relative;}#sk-container-id-2 div.sk-text-repr-fallback {display: none;}</style><div id=\"sk-container-id-2\" class=\"sk-top-container\"><div class=\"sk-text-repr-fallback\"><pre>XGBClassifier(alpha=10, base_score=None, booster=None, callbacks=None,\n",
              "              colsample_bylevel=None, colsample_bynode=None,\n",
              "              colsample_bytree=0.9, device=None, early_stopping_rounds=None,\n",
              "              enable_categorical=False, eval_metric=None, feature_types=None,\n",
              "              gamma=None, grow_policy=None, importance_type=None,\n",
              "              interaction_constraints=None, learning_rate=1, max_bin=None,\n",
              "              max_cat_threshold=None, max_cat_to_onehot=None,\n",
              "              max_delta_step=None, max_depth=3, max_leaves=None,\n",
              "              min_child_weight=None, missing=nan, monotone_constraints=None,\n",
              "              multi_strategy=None, n_estimators=100, n_jobs=None, num_class=4, ...)</pre><b>In a Jupyter environment, please rerun this cell to show the HTML representation or trust the notebook. <br />On GitHub, the HTML representation is unable to render, please try loading this page with nbviewer.org.</b></div><div class=\"sk-container\" hidden><div class=\"sk-item\"><div class=\"sk-estimator sk-toggleable\"><input class=\"sk-toggleable__control sk-hidden--visually\" id=\"sk-estimator-id-2\" type=\"checkbox\" checked><label for=\"sk-estimator-id-2\" class=\"sk-toggleable__label sk-toggleable__label-arrow\">XGBClassifier</label><div class=\"sk-toggleable__content\"><pre>XGBClassifier(alpha=10, base_score=None, booster=None, callbacks=None,\n",
              "              colsample_bylevel=None, colsample_bynode=None,\n",
              "              colsample_bytree=0.9, device=None, early_stopping_rounds=None,\n",
              "              enable_categorical=False, eval_metric=None, feature_types=None,\n",
              "              gamma=None, grow_policy=None, importance_type=None,\n",
              "              interaction_constraints=None, learning_rate=1, max_bin=None,\n",
              "              max_cat_threshold=None, max_cat_to_onehot=None,\n",
              "              max_delta_step=None, max_depth=3, max_leaves=None,\n",
              "              min_child_weight=None, missing=nan, monotone_constraints=None,\n",
              "              multi_strategy=None, n_estimators=100, n_jobs=None, num_class=4, ...)</pre></div></div></div></div></div>"
            ]
          },
          "metadata": {},
          "execution_count": 35
        }
      ]
    },
    {
      "cell_type": "code",
      "source": [
        "y_pred=xgb_model_tuned.predict(x_test)"
      ],
      "metadata": {
        "id": "bh318zcONEZz"
      },
      "execution_count": 36,
      "outputs": []
    },
    {
      "cell_type": "code",
      "source": [
        "accuracy = accuracy_score(y_test, y_pred)\n",
        "print(f'Accuracy: {accuracy:.2f}')\n",
        "\n",
        "\n",
        "precision, recall, f1_score, _ = precision_recall_fscore_support(y_test, y_pred)\n",
        "\n",
        "for i, v in enumerate(['p1', 'p2', 'p3', 'p4']):\n",
        "    print(f\"Class {v}:\")\n",
        "    print(f\"Precision: {precision[i]}\")\n",
        "    print(f\"Recall: {recall[i]}\")\n",
        "    print(f\"F1 Score: {f1_score[i]}\")\n",
        "    print()"
      ],
      "metadata": {
        "colab": {
          "base_uri": "https://localhost:8080/"
        },
        "id": "Y0EaqHdzNKlQ",
        "outputId": "c85738b1-daed-4ffd-aa58-403d2274bb31"
      },
      "execution_count": 37,
      "outputs": [
        {
          "output_type": "stream",
          "name": "stdout",
          "text": [
            "Accuracy: 0.78\n",
            "Class p1:\n",
            "Precision: 0.8374070138150903\n",
            "Recall: 0.777120315581854\n",
            "F1 Score: 0.8061381074168797\n",
            "\n",
            "Class p2:\n",
            "Precision: 0.8240740740740741\n",
            "Recall: 0.9173439048562934\n",
            "F1 Score: 0.868211237219773\n",
            "\n",
            "Class p3:\n",
            "Precision: 0.4655380894800484\n",
            "Recall: 0.29056603773584905\n",
            "F1 Score: 0.3578066914498141\n",
            "\n",
            "Class p4:\n",
            "Precision: 0.738581146744412\n",
            "Recall: 0.738581146744412\n",
            "F1 Score: 0.7385811467444121\n",
            "\n"
          ]
        }
      ]
    },
    {
      "cell_type": "code",
      "source": [],
      "metadata": {
        "id": "f-eSRxIo6eqs"
      },
      "execution_count": null,
      "outputs": []
    }
  ],
  "metadata": {
    "colab": {
      "provenance": [],
      "authorship_tag": "ABX9TyPyk2/6VdGdSmiPo/ISByc5",
      "include_colab_link": true
    },
    "kernelspec": {
      "display_name": "Python 3",
      "name": "python3"
    },
    "language_info": {
      "name": "python"
    }
  },
  "nbformat": 4,
  "nbformat_minor": 0
}